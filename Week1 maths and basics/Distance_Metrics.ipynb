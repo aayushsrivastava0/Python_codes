{
 "cells": [
  {
   "cell_type": "code",
   "execution_count": 2,
   "metadata": {},
   "outputs": [
    {
     "name": "stdout",
     "output_type": "stream",
     "text": [
      "Euclidean Distance b/w (1, 2, 3) and (4, 5, 6) is:  5.196152422706632\n",
      "Manhattan Distance b/w (1, 2, 3) and (4, 5, 6) is:  9\n",
      "Chebyshev Distance: 3\n",
      "Chebyshev Distance using scipylib: 3\n",
      "Hamming Distance b/w euclidean and manhattan is:  7.0\n"
     ]
    }
   ],
   "source": [
    "import numpy as np\n",
    "from math import sqrt\n",
    "from scipy.spatial import distance\n",
    "\n",
    "# defining points\n",
    "point_1 = (1, 2, 3)\n",
    "point_2 = (4, 5, 6)\n",
    "point_1, point_2\n",
    "\n",
    "#euclidean_distance\n",
    "euclidean_distance = distance.euclidean(point_1, point_2)\n",
    "print('Euclidean Distance b/w', point_1, 'and', point_2, 'is: ', euclidean_distance)\n",
    "\n",
    "#manhattan_distance\n",
    "manhattan_distance = distance.cityblock(point_1, point_2)\n",
    "print('Manhattan Distance b/w', point_1, 'and', point_2, 'is: ', manhattan_distance)\n",
    "\n",
    "#Chebyshev Distance\n",
    "\n",
    "def chebyshev(x,y):\n",
    "    distance = []\n",
    "    for a,b in zip(x,y):\n",
    "        distance.append(abs(a-b))\n",
    "    return max(distance)\n",
    "print(\"Chebyshev Distance:\",chebyshev([1,3,4,1],[3,2,1,1]))\n",
    "\n",
    "print(\"Chebyshev Distance using scipylib:\",distance.chebyshev([1,3,4,1],[3,2,1,1]))\n",
    "\n",
    "# Hamming distance(defining two strings)\n",
    "string_1 = 'euclidean'\n",
    "string_2 = 'manhattan'\n",
    "\n",
    "hamming_distance = distance.hamming(list(string_1), list(string_2))*len(string_1)\n",
    "print('Hamming Distance b/w', string_1, 'and', string_2, 'is: ', hamming_distance)\n",
    "\n"
   ]
  },
  {
   "cell_type": "code",
   "execution_count": 18,
   "metadata": {},
   "outputs": [
    {
     "name": "stdout",
     "output_type": "stream",
     "text": [
      "Minkowski Distance of order 1: 9.0 \n",
      "Manhattan Distance:  9\n",
      "Minkowski Distance of order 2: 5.196152422706632 \n",
      "Euclidean Distance:  5.196152422706632\n"
     ]
    }
   ],
   "source": [
    "# MINKOWSKI DISTANCE\n",
    "\n",
    "# For, p=1, the distance measure is the Manhattan measure.\n",
    "\n",
    "# minkowski and manhattan distance\n",
    "minkowski_distance_order_1 = distance.minkowski(point_1, point_2, p=1)\n",
    "print('Minkowski Distance of order 1:',minkowski_distance_order_1, '\\nManhattan Distance: ',manhattan_distance)\n",
    "\n",
    "# For, p=2, the distance measure is the Euclidean measure.\n",
    "\n",
    "# minkowski and euclidean distance\n",
    "minkowski_distance_order_2 = distance.minkowski(point_1, point_2, p=2)\n",
    "print('Minkowski Distance of order 2:',minkowski_distance_order_2, '\\nEuclidean Distance: ',euclidean_distance)\n"
   ]
  },
  {
   "cell_type": "code",
   "execution_count": 21,
   "metadata": {},
   "outputs": [
    {
     "name": "stdout",
     "output_type": "stream",
     "text": [
      "Cosine Similarity: 0.7\n",
      "Jaccard Similarity: 0.3333333333333333\n",
      "Jaccard Distance: 0.6666666666666667\n"
     ]
    }
   ],
   "source": [
    "#cosine_similarity\n",
    "\n",
    "def cosine_similarity(x,y):\n",
    "    numerator = 0\n",
    "    sum_x = 0\n",
    "    sum_y = 0\n",
    "    for a,b in zip(x,y):\n",
    "        numerator += sum([a * b])\n",
    "        sum_x += sum([a**2])\n",
    "        sum_y += sum([b**2])\n",
    "    denominator = round(sqrt(sum_x) * sqrt(sum_y))\n",
    "    return numerator / denominator\n",
    "print(\"Cosine Similarity:\", cosine_similarity([1,3,4,1],[3,2,1,1]))\n",
    "\n",
    "\n",
    "\n",
    "#jaccard\n",
    "\n",
    "def jaccard_similarity(x,y):\n",
    "    intersection = len(set(x).intersection(set(y)))\n",
    "    union = len(set(x).union(set(y)))\n",
    "    return (intersection / union)\n",
    "print(\"Jaccard Similarity:\",jaccard_similarity([0,1,2,5,6], [0,2,3,4,5,7,9]))\n",
    "print(\"Jaccard Distance:\", 1-jaccard_similarity([0,1,2,5,6],[0,2,3,4,5,7,9]))\n"
   ]
  },
  {
   "cell_type": "code",
   "execution_count": null,
   "metadata": {},
   "outputs": [],
   "source": []
  }
 ],
 "metadata": {
  "kernelspec": {
   "display_name": "Python 3",
   "language": "python",
   "name": "python3"
  },
  "language_info": {
   "codemirror_mode": {
    "name": "ipython",
    "version": 3
   },
   "file_extension": ".py",
   "mimetype": "text/x-python",
   "name": "python",
   "nbconvert_exporter": "python",
   "pygments_lexer": "ipython3",
   "version": "3.8.3"
  }
 },
 "nbformat": 4,
 "nbformat_minor": 4
}
