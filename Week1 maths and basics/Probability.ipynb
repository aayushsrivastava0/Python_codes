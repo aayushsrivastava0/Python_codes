{
 "cells": [
  {
   "cell_type": "code",
   "execution_count": 8,
   "metadata": {},
   "outputs": [
    {
     "name": "stdout",
     "output_type": "stream",
     "text": [
      "Probability of getting aces: 0.08\n"
     ]
    }
   ],
   "source": [
    "# Sample Space\n",
    "cards = 52\n",
    "\n",
    "# Outcomes\n",
    "aces = 4\n",
    "\n",
    "ace_probability = aces / cards\n",
    "\n",
    "# Print probability rounded to two decimal places\n",
    "print(\"Probability of getting aces:\", round(ace_probability, 2))"
   ]
  },
  {
   "cell_type": "code",
   "execution_count": 2,
   "metadata": {},
   "outputs": [
    {
     "name": "stdout",
     "output_type": "stream",
     "text": [
      "Probability of getting hearts: 0.25\n"
     ]
    }
   ],
   "source": [
    "# Sample Space\n",
    "cards = 52\n",
    "\n",
    "# Determine the probability of drawing a heart\n",
    "hearts = 13\n",
    "hearts_probability = hearts/cards\n",
    "\n",
    "print(\"Probability of getting hearts:\", round(hearts_probability,2))\n"
   ]
  },
  {
   "cell_type": "code",
   "execution_count": 4,
   "metadata": {},
   "outputs": [
    {
     "name": "stdout",
     "output_type": "stream",
     "text": [
      "Result= 25.0%\n",
      "Result= 23.1%\n",
      "Result= 1.9%\n"
     ]
    }
   ],
   "source": [
    "# Create function that returns probability percent rounded to one decimal place\n",
    "def event_probability(event_outcomes, sample_space):\n",
    "    probability = (event_outcomes / sample_space) * 100\n",
    "    return round(probability, 1)\n",
    "\n",
    "# Sample Space\n",
    "cards = 52\n",
    "\n",
    "# Determine the probability of drawing a heart\n",
    "hearts = 13\n",
    "heart_probability = event_probability(hearts, cards)\n",
    "\n",
    "# Determine the probability of drawing a face card\n",
    "face_cards = 12\n",
    "face_card_probability = event_probability(face_cards, cards)\n",
    "\n",
    "# Determine the probability of drawing the queen of hearts\n",
    "ace_of_hearts = 1\n",
    "ace_of_hearts_probability = event_probability(ace_of_hearts, cards)\n",
    "\n",
    "# Print each probability\n",
    "print(\"Result=\",str(heart_probability) + '%')\n",
    "print(\"Result=\",str(face_card_probability) + '%')\n",
    "print(\"Result=\",str(ace_of_hearts_probability) + '%')\n"
   ]
  },
  {
   "cell_type": "code",
   "execution_count": 5,
   "metadata": {},
   "outputs": [
    {
     "data": {
      "image/png": "[encoded data removed]",
      "text/plain": [
       "<Figure size 432x288 with 1 Axes>"
      ]
     },
     "metadata": {
      "needs_background": "light"
     },
     "output_type": "display_data"
    }
   ],
   "source": [
    "from scipy.stats import norm\n",
    "import numpy as np\n",
    "import matplotlib.pyplot as plt\n",
    "\n",
    "x= np.arange(-4,4,0.001)\n",
    "plt.plot(x, norm.pdf(x))\n",
    "plt.show()\n"
   ]
  },
  {
   "cell_type": "code",
   "execution_count": 7,
   "metadata": {},
   "outputs": [
    {
     "name": "stdout",
     "output_type": "stream",
     "text": [
      "union= 4\n",
      "union= 6\n",
      "INTERSECTION= 6\n"
     ]
    }
   ],
   "source": [
    "#UNION\n",
    "\n",
    "dice=[1,2,3,4,5,6]\n",
    "\n",
    "n=len(dice)\n",
    "\n",
    "for i in range(0,n):\n",
    "    if((dice[i]==4)or(dice[i]==6)):\n",
    "        print(\"union=\",dice[i])\n",
    "\n",
    "        \n",
    "#INTERSECTION\n",
    "\n",
    "dice=[1,2,3,4,5,6]\n",
    "\n",
    "n=len(dice)\n",
    "\n",
    "for i in range(0,n):\n",
    "    if((dice[i]%2==0)and(dice[i]%3)==0):\n",
    "        print(\"INTERSECTION=\",dice[i])\n"
   ]
  },
  {
   "cell_type": "code",
   "execution_count": null,
   "metadata": {},
   "outputs": [],
   "source": []
  }
 ],
 "metadata": {
  "kernelspec": {
   "display_name": "Python 3",
   "language": "python",
   "name": "python3"
  },
  "language_info": {
   "codemirror_mode": {
    "name": "ipython",
    "version": 3
   },
   "file_extension": ".py",
   "mimetype": "text/x-python",
   "name": "python",
   "nbconvert_exporter": "python",
   "pygments_lexer": "ipython3",
   "version": "3.8.3"
  }
 },
 "nbformat": 4,
 "nbformat_minor": 4
}
