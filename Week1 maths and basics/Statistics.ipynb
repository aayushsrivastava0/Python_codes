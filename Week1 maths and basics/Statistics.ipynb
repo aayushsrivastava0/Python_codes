{
 "cells": [
  {
   "cell_type": "code",
   "execution_count": 17,
   "metadata": {},
   "outputs": [
    {
     "name": "stdout",
     "output_type": "stream",
     "text": [
      "Mean= 21.25\n",
      "Median= 21.5\n",
      "Mode= 11\n",
      "Standered Deviation= 7.1545440106270926\n"
     ]
    },
    {
     "data": {
      "text/plain": [
       "6.4"
      ]
     },
     "execution_count": 17,
     "metadata": {},
     "output_type": "execute_result"
    }
   ],
   "source": [
    "import math\n",
    "import statistics\n",
    "import numpy as np\n",
    "from scipy import stats\n",
    "\n",
    "#Basic statistics\n",
    "\n",
    "a =[11, 21, 34, 22, 27, 11, 23, 21]\n",
    "mean = np.mean(a)\n",
    "\n",
    "print (\"Mean=\",mean)\n",
    "\n",
    "\n",
    "a =[11, 21, 34, 22, 27, 11, 29, 21]\n",
    "print(\"Median=\",np.median(a))\n",
    "\n",
    "\n",
    "a =[11, 21, 34, 22, 27, 11, 23, 21]\n",
    "print (\"Mode=\",stats.mode(a)[0][0])\n",
    "\n",
    "\n",
    "a =[11, 21, 34, 22, 27, 11, 23, 21]\n",
    "print (\"Standered Deviation=\",np.std(a))\n",
    "\n",
    "\n",
    "\n",
    "statistics.variance([4, 8, 6, 5, 3, 2, 8, 9, 2, 5])"
   ]
  },
  {
   "cell_type": "code",
   "execution_count": null,
   "metadata": {},
   "outputs": [],
   "source": []
  }
 ],
 "metadata": {
  "kernelspec": {
   "display_name": "Python 3",
   "language": "python",
   "name": "python3"
  },
  "language_info": {
   "codemirror_mode": {
    "name": "ipython",
    "version": 3
   },
   "file_extension": ".py",
   "mimetype": "text/x-python",
   "name": "python",
   "nbconvert_exporter": "python",
   "pygments_lexer": "ipython3",
   "version": "3.8.3"
  }
 },
 "nbformat": 4,
 "nbformat_minor": 4
}
