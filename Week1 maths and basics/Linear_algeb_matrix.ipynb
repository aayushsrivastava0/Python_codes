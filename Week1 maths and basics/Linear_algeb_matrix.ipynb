{
 "cells": [
  {
   "cell_type": "code",
   "execution_count": 4,
   "metadata": {},
   "outputs": [
    {
     "name": "stdout",
     "output_type": "stream",
     "text": [
      "Addition of two matrices: \n",
      "[[ 3 13]\n",
      " [11 18]]\n",
      "Subtraction of two matrices : \n",
      "[[-1 -3]\n",
      " [ 1 -2]]\n",
      "Matrix Division : \n",
      "[[0.5   0.625]\n",
      " [1.2   0.8  ]]\n",
      "Multiplication of two matrices: \n",
      "[[ 2 40]\n",
      " [30 80]]\n",
      "The product of two matrices : \n",
      "[[ 27  58]\n",
      " [ 52 128]]\n",
      "square root is : \n",
      "[[1.         2.23606798]\n",
      " [2.44948974 2.82842712]]\n",
      "The summation of elements : \n",
      "25\n",
      "The column wise summation  : \n",
      "[ 7 18]\n",
      "The row wise summation: \n",
      "[10 15]\n",
      "Matrix transposition : \n",
      "[[1 6]\n",
      " [5 8]]\n"
     ]
    }
   ],
   "source": [
    "import numpy\n",
    "# Two matrices are initialized by value\n",
    "x = numpy.array([[1, 5], [6, 8]])\n",
    "y = numpy.array([[2, 8], [5, 10]])\n",
    "\n",
    "#  add()is used to add matrices\n",
    "print (\"Addition of two matrices: \")\n",
    "print (numpy.add(x,y))\n",
    "\n",
    "# subtract()is used to subtract matrices\n",
    "print (\"Subtraction of two matrices : \")\n",
    "print (numpy.subtract(x,y))\n",
    "\n",
    "# divide()is used to divide matrices\n",
    "print (\"Matrix Division : \")\n",
    "print (numpy.divide(x,y))\n",
    "\n",
    "print (\"Multiplication of two matrices: \")\n",
    "print (numpy.multiply(x,y))\n",
    "print (\"The product of two matrices : \")\n",
    "print (numpy.dot(x,y))\n",
    "\n",
    "print (\"square root is : \")\n",
    "print (numpy.sqrt(x))\n",
    "\n",
    "print (\"The summation of elements : \")\n",
    "print (numpy.sum(y))\n",
    "\n",
    "print (\"The column wise summation  : \")\n",
    "print (numpy.sum(y,axis=0))\n",
    "\n",
    "print (\"The row wise summation: \")\n",
    "print (numpy.sum(y,axis=1))\n",
    "\n",
    "# using \"T\" to transpose the matrix\n",
    "print (\"Matrix transposition : \")\n",
    "print (x.T)"
   ]
  },
  {
   "cell_type": "code",
   "execution_count": null,
   "metadata": {},
   "outputs": [],
   "source": []
  }
 ],
 "metadata": {
  "kernelspec": {
   "display_name": "Python 3",
   "language": "python",
   "name": "python3"
  },
  "language_info": {
   "codemirror_mode": {
    "name": "ipython",
    "version": 3
   },
   "file_extension": ".py",
   "mimetype": "text/x-python",
   "name": "python",
   "nbconvert_exporter": "python",
   "pygments_lexer": "ipython3",
   "version": "3.8.3"
  }
 },
 "nbformat": 4,
 "nbformat_minor": 4
}
