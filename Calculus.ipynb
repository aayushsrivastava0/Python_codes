{
 "cells": [
  {
   "cell_type": "code",
   "execution_count": 1,
   "metadata": {},
   "outputs": [
    {
     "name": "stdout",
     "output_type": "stream",
     "text": [
      "Result= -sin(x)*sin(y) + cos(x)*cos(y)\n",
      "expansion= x**3 + 3*x**2*y + 3*x*y**2 + y**3\n",
      "Simplification= y + 1\n"
     ]
    }
   ],
   "source": [
    "import sympy as sym\n",
    "x = sym.Symbol('x')\n",
    "y = sym.Symbol('y')\n",
    "\n",
    "#Algebric manipulations\n",
    "print(\"Result=\", sym.expand(sym.cos(x + y), trig=True))\n",
    "\n",
    "\n",
    "print(\"expansion=\" ,sym.expand((x + y) ** 3))\n",
    "\n",
    "print(\"Simplification=\",sym.simplify((x + x * y) / x))\n"
   ]
  },
  {
   "cell_type": "code",
   "execution_count": 25,
   "metadata": {},
   "outputs": [
    {
     "name": "stdout",
     "output_type": "stream",
     "text": [
      "ans= 1\n",
      "result= 1 - x**2/2 + x**4/24 + O(x**6)\n",
      "result= {x: -3, y: 1}\n"
     ]
    }
   ],
   "source": [
    "# Calculus\n",
    "\n",
    "print(\"ans=\", sym.limit(sym.sin(x) / x, x, 0))\n",
    "\n",
    "# series expansiion\n",
    "\n",
    "print(\"result=\",sym.series(sym.cos(x), x))\n",
    "\n",
    "#Equation solving\n",
    "\n",
    "print(\"result=\", sym.solve((x + 5 * y - 2, -3 * x + 6 * y - 15), (x, y)))\n",
    "      \n"
   ]
  },
  {
   "cell_type": "code",
   "execution_count": 17,
   "metadata": {},
   "outputs": [
    {
     "name": "stdout",
     "output_type": "stream",
     "text": [
      "result= x**6\n",
      "result= -cos(x)\n",
      "result= x*log(x) - x\n",
      "result= 0\n",
      "result= sqrt(pi)\n"
     ]
    }
   ],
   "source": [
    "#Integeration\n",
    "print(\"result=\",sym.integrate(6 * x ** 5, x))\n",
    "\n",
    "print(\"result=\",sym.integrate(sym.sin(x), x))\n",
    "\n",
    "print(\"result=\",sym.integrate(sym.log(x), x))\n",
    "\n",
    "print(\"result=\",sym.integrate(x**3, (x, -1, 1)))\n",
    "\n",
    "#improper integral \n",
    "print(\"result=\",sym.integrate(sym.exp(-x ** 2), (x, -sym.oo, sym.oo)))\n"
   ]
  },
  {
   "cell_type": "code",
   "execution_count": 19,
   "metadata": {},
   "outputs": [
    {
     "name": "stdout",
     "output_type": "stream",
     "text": [
      "result= cos(x)\n",
      "result= 2*cos(2*x)\n",
      "result= tan(x)**2 + 1\n",
      "result= 2*cos(2*x)\n"
     ]
    }
   ],
   "source": [
    "#Differntiate\n",
    "    \n",
    "print(\"result=\",sym.diff(sym.sin(x), x))\n",
    "\n",
    "print(\"result=\", sym.diff(sym.sin(2 * x), x))\n",
    "\n",
    "print(\"result=\",sym.diff(sym.tan(x), x))\n",
    "\n",
    "print(\"result=\",sym.diff(sym.sin(2 * x), x, 1))\n"
   ]
  },
  {
   "cell_type": "code",
   "execution_count": null,
   "metadata": {},
   "outputs": [],
   "source": []
  }
 ],
 "metadata": {
  "kernelspec": {
   "display_name": "Python 3",
   "language": "python",
   "name": "python3"
  },
  "language_info": {
   "codemirror_mode": {
    "name": "ipython",
    "version": 3
   },
   "file_extension": ".py",
   "mimetype": "text/x-python",
   "name": "python",
   "nbconvert_exporter": "python",
   "pygments_lexer": "ipython3",
   "version": "3.8.3"
  }
 },
 "nbformat": 4,
 "nbformat_minor": 4
}
